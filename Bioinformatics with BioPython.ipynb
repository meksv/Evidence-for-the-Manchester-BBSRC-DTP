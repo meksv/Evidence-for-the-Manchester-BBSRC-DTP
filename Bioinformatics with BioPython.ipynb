{
 "cells": [
  {
   "cell_type": "markdown",
   "metadata": {},
   "source": [
    "#### My example with unique code and different sequences from taught course"
   ]
  },
  {
   "cell_type": "code",
   "execution_count": 1,
   "metadata": {},
   "outputs": [],
   "source": [
    "# Sequence analysis and transformation example\n",
    "\n",
    "# Stem Cell Example\n",
    "# WO 2020036183-A/1: Marker for Cancer Stem Cell and Drug for Targeting Cancer Stem Cell.\n",
    "# https://www.ncbi.nlm.nih.gov/nuccore/MC003581.1"
   ]
  },
  {
   "cell_type": "code",
   "execution_count": 2,
   "metadata": {},
   "outputs": [],
   "source": [
    "import Bio\n",
    "from Bio import SeqIO\n",
    "from Bio.Seq import Seq"
   ]
  },
  {
   "cell_type": "code",
   "execution_count": 3,
   "metadata": {},
   "outputs": [],
   "source": [
    "#Read FASTA file"
   ]
  },
  {
   "cell_type": "code",
   "execution_count": 4,
   "metadata": {},
   "outputs": [
    {
     "data": {
      "text/plain": [
       "SeqRecord(seq=Seq('ACTCGCCGCAGCCTGCGCGCCTTCTCCAGTCCGCGGTGCCATGGCCCCCGCCCG...AAA'), id='MC003581.1', name='MC003581.1', description='MC003581.1 WO 2020036183-A/1: Marker for Cancer Stem Cell and Drug for Targeting Cancer Stem Cell', dbxrefs=[])"
      ]
     },
     "execution_count": 4,
     "metadata": {},
     "output_type": "execute_result"
    }
   ],
   "source": [
    "stem_cell_ffile = SeqIO.read(\"stem_cell_sequence.fasta\",\"fasta\")\n",
    "stem_cell_ffile"
   ]
  },
  {
   "cell_type": "code",
   "execution_count": 5,
   "metadata": {},
   "outputs": [
    {
     "data": {
      "text/plain": [
       "Seq('ACTCGCCGCAGCCTGCGCGCCTTCTCCAGTCCGCGGTGCCATGGCCCCCGCCCG...AAA')"
      ]
     },
     "execution_count": 5,
     "metadata": {},
     "output_type": "execute_result"
    }
   ],
   "source": [
    "#Isolate the sequence\n",
    "stem_cell_seq = stem_cell_ffile.seq\n",
    "stem_cell_seq"
   ]
  },
  {
   "cell_type": "markdown",
   "metadata": {},
   "source": [
    "#### Sequence Analysis"
   ]
  },
  {
   "cell_type": "code",
   "execution_count": 6,
   "metadata": {},
   "outputs": [],
   "source": [
    "#Packages + function for metrics\n",
    "from Bio.SeqUtils import GC                   #needed for GC count\n",
    "from Bio.SeqUtils import MeltingTemp as mt    #needed for melting temperature\n",
    "\n",
    "def AT(seq):\n",
    "    result = float(seq.count('A')+seq.count('T'))/len(seq)*100\n",
    "    return result"
   ]
  },
  {
   "cell_type": "code",
   "execution_count": 7,
   "metadata": {},
   "outputs": [],
   "source": [
    "def metrics(seq):\n",
    "    length = len(seq)\n",
    "    at = AT(seq)\n",
    "    at_1dp = \"{:.1f}\".format(at)\n",
    "    gc= GC(seq)\n",
    "    gc_1dp = \"{:.1f}\".format(gc)\n",
    "    mp = mt.Tm_GC(seq)\n",
    "    mp_1dp = \"{:.1f}\".format(mp)\n",
    "    result = \"Length of Sequence: {}bp, AT content: {}%, GC content: {}%, Melting Point: {} degree celsius\".format(length,at_1dp,gc_1dp,mp_1dp)\n",
    "    return result"
   ]
  },
  {
   "cell_type": "code",
   "execution_count": 8,
   "metadata": {},
   "outputs": [
    {
     "data": {
      "text/plain": [
       "'Length of Sequence: 2615bp, AT content: 51.2%, GC content: 48.8%, Melting Point: 79.4 degree celsius'"
      ]
     },
     "execution_count": 8,
     "metadata": {},
     "output_type": "execute_result"
    }
   ],
   "source": [
    "metrics(stem_cell_seq)"
   ]
  },
  {
   "cell_type": "code",
   "execution_count": 9,
   "metadata": {},
   "outputs": [],
   "source": [
    "#Plotting bases as frequency\n",
    "from collections import Counter\n",
    "import matplotlib.pyplot as plt\n",
    "import seaborn as sns\n",
    "sns.set()"
   ]
  },
  {
   "cell_type": "code",
   "execution_count": 10,
   "metadata": {},
   "outputs": [
    {
     "data": {
      "text/plain": [
       "Counter({'A': 545, 'C': 607, 'T': 795, 'G': 668})"
      ]
     },
     "execution_count": 10,
     "metadata": {},
     "output_type": "execute_result"
    }
   ],
   "source": [
    "stem_cell_freq = Counter(stem_cell_seq)\n",
    "stem_cell_freq"
   ]
  },
  {
   "cell_type": "code",
   "execution_count": 11,
   "metadata": {},
   "outputs": [
    {
     "data": {
      "image/png": "[encoded data removed]",
      "text/plain": [
       "<Figure size 648x432 with 1 Axes>"
      ]
     },
     "metadata": {},
     "output_type": "display_data"
    }
   ],
   "source": [
    "sns.set_style(\"dark\")\n",
    "plt.figure(figsize = (9,6))\n",
    "plt.bar(stem_cell_freq.keys(),stem_cell_freq.values(), color = \"midnightblue\")\n",
    "\n",
    "for X,Y in enumerate(stem_cell_freq.values()):\n",
    "    plt.annotate(Y,xy=(X,Y),ha=\"center\",color=\"black\",fontsize=16,fontweight=\"bold\")\n",
    "\n",
    "plt.title(\"Frequency of Bases in DNA Sequence\",fontsize=16,fontweight=\"bold\")\n",
    "plt.ylabel(\"Frequency\",fontsize=15)\n",
    "plt.xlabel(\"Bases\",fontsize=15)\n",
    "sns.despine()\n",
    "plt.show()"
   ]
  },
  {
   "cell_type": "markdown",
   "metadata": {},
   "source": [
    "#### Sequence Alignment"
   ]
  },
  {
   "cell_type": "code",
   "execution_count": 12,
   "metadata": {},
   "outputs": [],
   "source": [
    "#Example - Checking multiple areas of sequence\n",
    "from Bio import pairwise2\n",
    "from Bio.pairwise2 import format_alignment"
   ]
  },
  {
   "cell_type": "code",
   "execution_count": 13,
   "metadata": {},
   "outputs": [
    {
     "data": {
      "text/plain": [
       "Seq('ACTCGCCGCA')"
      ]
     },
     "execution_count": 13,
     "metadata": {},
     "output_type": "execute_result"
    }
   ],
   "source": [
    "seq1 = stem_cell_seq[0:10]\n",
    "seq1"
   ]
  },
  {
   "cell_type": "code",
   "execution_count": 14,
   "metadata": {},
   "outputs": [
    {
     "data": {
      "text/plain": [
       "Seq('GGAGTCGCCG')"
      ]
     },
     "execution_count": 14,
     "metadata": {},
     "output_type": "execute_result"
    }
   ],
   "source": [
    "seq2 = stem_cell_seq[85:95]\n",
    "seq2"
   ]
  },
  {
   "cell_type": "code",
   "execution_count": 15,
   "metadata": {},
   "outputs": [
    {
     "data": {
      "text/plain": [
       "[Alignment(seqA='--AC-TCGCCGCA', seqB='GGA-GTCGCCG--', score=7.0, start=0, end=13),\n",
       " Alignment(seqA='--ACTCGCCGCA', seqB='GGAGTCGCCG--', score=7.0, start=0, end=12)]"
      ]
     },
     "execution_count": 15,
     "metadata": {},
     "output_type": "execute_result"
    }
   ],
   "source": [
    "# Global Alignment\n",
    "global_alignment = pairwise2.align.globalxx(seq1,seq2)\n",
    "global_alignment"
   ]
  },
  {
   "cell_type": "code",
   "execution_count": 16,
   "metadata": {},
   "outputs": [
    {
     "name": "stdout",
     "output_type": "stream",
     "text": [
      "--AC-TCGCCGCA\n",
      "  |  ||||||  \n",
      "GGA-GTCGCCG--\n",
      "  Score=7\n",
      "\n",
      "--ACTCGCCGCA\n",
      "  |.||||||  \n",
      "GGAGTCGCCG--\n",
      "  Score=7\n",
      "\n"
     ]
    }
   ],
   "source": [
    "#Disply all alignments\n",
    "for x in global_alignment:\n",
    "    print(format_alignment(*x))"
   ]
  },
  {
   "cell_type": "code",
   "execution_count": 17,
   "metadata": {},
   "outputs": [
    {
     "data": {
      "text/plain": [
       "[Alignment(seqA='--AC-TCGCCGCA', seqB='GGA-GTCGCCG--', score=7.0, start=2, end=11),\n",
       " Alignment(seqA='--ACTCGCCGCA', seqB='GGAGTCGCCG--', score=7.0, start=2, end=10)]"
      ]
     },
     "execution_count": 17,
     "metadata": {},
     "output_type": "execute_result"
    }
   ],
   "source": [
    "# Local alignment\n",
    "local_alignments = pairwise2.align.localxx(seq1,seq2)\n",
    "local_alignments"
   ]
  },
  {
   "cell_type": "code",
   "execution_count": 18,
   "metadata": {},
   "outputs": [
    {
     "name": "stdout",
     "output_type": "stream",
     "text": [
      "1 AC-TCGCCG\n",
      "  |  ||||||\n",
      "3 A-GTCGCCG\n",
      "  Score=7\n",
      "\n",
      "1 ACTCGCCG\n",
      "  |.||||||\n",
      "3 AGTCGCCG\n",
      "  Score=7\n",
      "\n"
     ]
    }
   ],
   "source": [
    "#Disply all alignments\n",
    "for x in local_alignments:\n",
    "    print(format_alignment(*x))"
   ]
  },
  {
   "cell_type": "markdown",
   "metadata": {},
   "source": [
    "#### Transforming the data"
   ]
  },
  {
   "cell_type": "code",
   "execution_count": 19,
   "metadata": {},
   "outputs": [],
   "source": [
    "from Bio.SeqUtils import seq3"
   ]
  },
  {
   "cell_type": "code",
   "execution_count": 20,
   "metadata": {},
   "outputs": [
    {
     "data": {
      "text/plain": [
       "Seq('TGAGCGGCGTCGGACGCGCGGAAGAGGTCAGGCGCCACGGTACCGGGGGCGGGC...TTT')"
      ]
     },
     "execution_count": 20,
     "metadata": {},
     "output_type": "execute_result"
    }
   ],
   "source": [
    "#Complement sequence\n",
    "stem_cell_seq.complement()"
   ]
  },
  {
   "cell_type": "code",
   "execution_count": 21,
   "metadata": {},
   "outputs": [
    {
     "data": {
      "text/plain": [
       "Seq('TTTTTAGAAAGTACCAGGTTTTATTATCTTTTTATCAAAAAAAATCAGTAACAG...AGT')"
      ]
     },
     "execution_count": 21,
     "metadata": {},
     "output_type": "execute_result"
    }
   ],
   "source": [
    "#Reverse Complement sequence\n",
    "stem_cell_seq.reverse_complement()"
   ]
  },
  {
   "cell_type": "code",
   "execution_count": 22,
   "metadata": {},
   "outputs": [
    {
     "data": {
      "text/plain": [
       "Seq('ACUCGCCGCAGCCUGCGCGCCUUCUCCAGUCCGCGGUGCCAUGGCCCCCGCCCG...AAA')"
      ]
     },
     "execution_count": 22,
     "metadata": {},
     "output_type": "execute_result"
    }
   ],
   "source": [
    "#DNA to mRNA\n",
    "stem_cell_seq.transcribe()"
   ]
  },
  {
   "cell_type": "code",
   "execution_count": 23,
   "metadata": {},
   "outputs": [
    {
     "name": "stderr",
     "output_type": "stream",
     "text": [
      "C:\\Users\\meksv\\anaconda3\\lib\\site-packages\\Bio\\Seq.py:2334: BiopythonWarning: Partial codon, len(sequence) not a multiple of three. Explicitly trim the sequence or add trailing N before translation. This may become an error in future.\n",
      "  warnings.warn(\n"
     ]
    },
    {
     "data": {
      "text/plain": [
       "Seq('TRRSLRAFSSPRCHGPRPSVRAAAVLRRRSRRVDPRD*GHRPPGPPRRPILLRS...LSK')"
      ]
     },
     "execution_count": 23,
     "metadata": {},
     "output_type": "execute_result"
    }
   ],
   "source": [
    "#DNA to protein\n",
    "stem_cell_seq.translate()"
   ]
  },
  {
   "cell_type": "code",
   "execution_count": 24,
   "metadata": {},
   "outputs": [
    {
     "data": {
      "text/plain": [
       "'ThrArgArgSerLeuArgAlaPheSerSerProArgCysHisGlyProArgProSerValArgAlaAlaAlaValLeuArgArgArgSerArgArgValAspProArgAspTerGlyHisArgProProGlyProProArgArgProIleLeuLeuArgSerProThrArgArgTerGlyCysSerGlyAlaArgAlaGlyIleTerTerLeuTerAlaValTrpLeuTrpArgSerGlyTerLeuGlyArgLeuHisAspArgProTerSerCysProSerLeuGlyAlaSerArgTerProTyrProTerGluGlyArgValTrpGluProSerProHisArgThrGlnGluThrArgGlyGluTerGlyTyrProGlnGluAsnLeuThrArgTerArgGluTerGlyCysValGlnGlnGlyValAsnValGlnHisCysAlaGlyGlnGlnHisLeuTerGluAsnGlyGlyProGlySerSerAspCysGlyTrpHisArgGlyHisProLeuCysArgLeuProAspProThrAlaHisValProTyrGluGluGluGlyTerArgGlnLeuTerProGlyGlnGluThrHisLeuGlnGluSerProHisGlnTerValLeuArgValLysLeuAlaCysGlyHisTrpLeuGlyLeuTerArgGlyGlyLysProGlyAspPheGluGlyTrpThrLeuGlyTerGlyGluValAsnLeuIleLeuThrCysGlnTyrLeuGlnLeuTerLeuProLeuLysCysSerGluGluThrLeuSerSerThrValLeuProGlySerSerTerAlaLeuGlyLeuSerCysProGlyArgLysMetAspSerThrTrpProPheTerArgGlnAspTrpAspTrpIleThrSerTerThrSerSerTerGluSerArgSerAlaLeuLysProIleLeuThrMetProHisProGluLeuLeuTerSerGlnGlyAlaAsnGlyCysCysValGluSerTrpLeuGluValLeuProGlnTrpProSerSerLeuProPheThrAlaGlyLeuSerAlaArgLysTrpGlyLysGluLeuGluProProAlaProTerAspValSerValAsnGlyTyrLeuTerSerHisTyrGlyAsnLeuCysGlyIleTyrLeuGlyProPheTerAlaLeuSerSerAspPheTrpLysSerThrPhePheIleTrpGlyGlyGlyTrpGlyLysGluLeuArgValTyrAlaGluMetAspLeuTerAsnIleCysLysSerIlePheSerValCysSerPhePheTerLeuPheIleProLeuCysArgValTyrIleSerAlaTrpAlaArgValTrpArgCysArgGlyValPheIleLeuSerHisIleSerThrAlaProAlaLysPheValPheAsnGlyPheCysPheCysPheCysLeuPheLeuGluAsnGluArgArgAlaGlyGluMetIlePheIleAsnPhePhePhePhePhePhePheLeuLeuPheIleAlaLeuAspArgAlaSerLeuProLeuPhePheLeuCysSerLeuSerLeuAsnProPheProSerPhePhePheIleLeuTerThrProLeuLeuMetAlaLeuAlaLeuSerGluAlaAlaSerSerTyrLysIleAlaPheAlaGluThrTerPhePhePheSerArgSerGlnAsnIleMetLysGlyMetValGlyTyrLeuCysLeuCysSerTyrAsnIleLeuLeuPhePheLeuGlySerArgLysIleAspLysTyrIlePhePheArgLysTerCysGlyValSerSerLeuMetLeuLeuGlyGlyTerValSerGluPheSerCysGlyTrpValGlyPheCysLeuPheLeuLeuProCysSerTrpCysLeuLeuMetGlyLeuGluTerLeuArgTrpMetValLeuProPheLeuProSerValTrpAspProAlaGlyValLeuTrpPheAlaPhePheArgLeuTerGlyCysAlaIleGlnTyrSerAsnHisMetArgLeuPheLysValLysProIleLysIleThrTerAspTerLysPheLeuProGlnLeuHisTerProArgPheTerArgArgHisCysMetTerPheMetAlaThrValLeuThrAlaArgAlaCysProSerValGlyGlnHisTyrSerArgGluLeuAsnTrpLeuAsnGluSerGlnProGlnLeuCysTrpAspAspProCysLeuProGlyTerGlyGlyGlyAsnGlyGlyGlyLeuMetArgProGlnLeuGlyProValValTrpAspProProSerProGluArgGlyGlyLeuValAlaTerProGlyGlnValValSerProProAspProSerGlyCysGlyGluGlyAsnHisProProLeuLeuHisGlnTrpProLeuAlaProValThrThrAlaThrGlnGlyProSerTrpLeuGlyProLeuLeuProProValProPheProLeuGlyCysValGlyValSerThrSerSerValGlyThrSerHisThrValValCysTyrTerPhePheLeuIleLysArgTerTerAsnLeuValLeuSerLys'"
      ]
     },
     "execution_count": 24,
     "metadata": {},
     "output_type": "execute_result"
    }
   ],
   "source": [
    "#3 letter amino acid sequence of protein\n",
    "stem_cell_protein = stem_cell_seq.translate()\n",
    "aa = seq3(stem_cell_protein)\n",
    "aa"
   ]
  },
  {
   "cell_type": "code",
   "execution_count": 25,
   "metadata": {},
   "outputs": [],
   "source": [
    "#Other Features - Viewing 3D models fsrm RCSB\n",
    "import py3Dmol"
   ]
  },
  {
   "cell_type": "code",
   "execution_count": 26,
   "metadata": {},
   "outputs": [
    {
     "data": {
      "application/3dmoljs_load.v0": "<div id=\"3dmolviewer_16014118240011277\"  style=\"position: relative; width: 640px; height: 480px\">\n        <p id=\"3dmolwarning_16014118240011277\" style=\"background-color:#ffcccc;color:black\">You appear to be running in JupyterLab (or JavaScript failed to load for some other reason).  You need to install the 3dmol extension: <br>\n        <tt>jupyter labextension install jupyterlab_3dmol</tt></p>\n        </div>\n<script>\n\nvar loadScriptAsync = function(uri){\n  return new Promise((resolve, reject) => {\n    var tag = document.createElement('script');\n    tag.src = uri;\n    tag.async = true;\n    tag.onload = () => {\n      resolve();\n    };\n  var firstScriptTag = document.getElementsByTagName('script')[0];\n  firstScriptTag.parentNode.insertBefore(tag, firstScriptTag);\n});\n};\n\nif(typeof $3Dmolpromise === 'undefined') {\n$3Dmolpromise = null;\n  $3Dmolpromise = loadScriptAsync('https://3dmol.csb.pitt.edu/build/3Dmol.js');\n}\n\nvar viewer_16014118240011277 = null;\nvar warn = document.getElementById(\"3dmolwarning_16014118240011277\");\nif(warn) {\n    warn.parentNode.removeChild(warn);\n}\n$3Dmolpromise.then(function() {\nviewer_16014118240011277 = $3Dmol.createViewer($(\"#3dmolviewer_16014118240011277\"),{backgroundColor:\"white\"});\n$3Dmol.download(\"pdb:1EXZ\", viewer_16014118240011277, {}, function() {\n\tviewer_16014118240011277.setStyle({\"cartoon\": {\"color\": \"spectrum\"}});\nviewer_16014118240011277.render();\n})\n});\n</script>",
      "text/html": [
       "<div id=\"3dmolviewer_16014118240011277\"  style=\"position: relative; width: 640px; height: 480px\">\n",
       "        <p id=\"3dmolwarning_16014118240011277\" style=\"background-color:#ffcccc;color:black\">You appear to be running in JupyterLab (or JavaScript failed to load for some other reason).  You need to install the 3dmol extension: <br>\n",
       "        <tt>jupyter labextension install jupyterlab_3dmol</tt></p>\n",
       "        </div>\n",
       "<script>\n",
       "\n",
       "var loadScriptAsync = function(uri){\n",
       "  return new Promise((resolve, reject) => {\n",
       "    var tag = document.createElement('script');\n",
       "    tag.src = uri;\n",
       "    tag.async = true;\n",
       "    tag.onload = () => {\n",
       "      resolve();\n",
       "    };\n",
       "  var firstScriptTag = document.getElementsByTagName('script')[0];\n",
       "  firstScriptTag.parentNode.insertBefore(tag, firstScriptTag);\n",
       "});\n",
       "};\n",
       "\n",
       "if(typeof $3Dmolpromise === 'undefined') {\n",
       "$3Dmolpromise = null;\n",
       "  $3Dmolpromise = loadScriptAsync('https://3dmol.csb.pitt.edu/build/3Dmol.js');\n",
       "}\n",
       "\n",
       "var viewer_16014118240011277 = null;\n",
       "var warn = document.getElementById(\"3dmolwarning_16014118240011277\");\n",
       "if(warn) {\n",
       "    warn.parentNode.removeChild(warn);\n",
       "}\n",
       "$3Dmolpromise.then(function() {\n",
       "viewer_16014118240011277 = $3Dmol.createViewer($(\"#3dmolviewer_16014118240011277\"),{backgroundColor:\"white\"});\n",
       "$3Dmol.download(\"pdb:1EXZ\", viewer_16014118240011277, {}, function() {\n",
       "\tviewer_16014118240011277.setStyle({\"cartoon\": {\"color\": \"spectrum\"}});\n",
       "viewer_16014118240011277.render();\n",
       "})\n",
       "});\n",
       "</script>"
      ]
     },
     "metadata": {},
     "output_type": "display_data"
    },
    {
     "data": {
      "text/plain": [
       "<py3Dmol.view at 0x231542ff430>"
      ]
     },
     "execution_count": 26,
     "metadata": {},
     "output_type": "execute_result"
    }
   ],
   "source": [
    "view1 =py3Dmol.view(query='pdb:1EXZ')\n",
    "view1.setStyle({'cartoon':{'color':'spectrum'}})"
   ]
  }
 ],
 "metadata": {
  "kernelspec": {
   "display_name": "Python 3",
   "language": "python",
   "name": "python3"
  },
  "language_info": {
   "codemirror_mode": {
    "name": "ipython",
    "version": 3
   },
   "file_extension": ".py",
   "mimetype": "text/x-python",
   "name": "python",
   "nbconvert_exporter": "python",
   "pygments_lexer": "ipython3",
   "version": "3.8.5"
  }
 },
 "nbformat": 4,
 "nbformat_minor": 4
}
